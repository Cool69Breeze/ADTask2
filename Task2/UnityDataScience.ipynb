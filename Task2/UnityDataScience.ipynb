{
 "cells": [
  {
   "cell_type": "code",
   "execution_count": 15,
   "id": "34fab68d",
   "metadata": {},
   "outputs": [
    {
     "name": "stderr",
     "output_type": "stream",
     "text": [
      "C:\\Users\\qubef\\AppData\\Local\\Temp\\ipykernel_21124\\1231992180.py:17: DeprecationWarning: [Deprecated][in version 6.0.0]: Method signature's arguments 'range_name' and 'values' will change their order. We recommend using named arguments for minimal impact. In addition, the argument 'values' will be mandatory of type: 'List[List]'. (ex) Worksheet.update(values = [[]], range_name=) \n",
      "  sh.sheet1.update(('A' + str(i)), str(i))\n",
      "C:\\Users\\qubef\\AppData\\Local\\Temp\\ipykernel_21124\\1231992180.py:18: DeprecationWarning: [Deprecated][in version 6.0.0]: Method signature's arguments 'range_name' and 'values' will change their order. We recommend using named arguments for minimal impact. In addition, the argument 'values' will be mandatory of type: 'List[List]'. (ex) Worksheet.update(values = [[]], range_name=) \n",
      "  sh.sheet1.update(('B' + str(i)), str(price[i-1]))\n",
      "C:\\Users\\qubef\\AppData\\Local\\Temp\\ipykernel_21124\\1231992180.py:19: DeprecationWarning: [Deprecated][in version 6.0.0]: Method signature's arguments 'range_name' and 'values' will change their order. We recommend using named arguments for minimal impact. In addition, the argument 'values' will be mandatory of type: 'List[List]'. (ex) Worksheet.update(values = [[]], range_name=) \n",
      "  sh.sheet1.update(('C' + str(i)), str(tempInf))\n"
     ]
    },
    {
     "name": "stdout",
     "output_type": "stream",
     "text": [
      "-80,0\n",
      "633,3333333333333\n",
      "-27,27272727272727\n",
      "-37,5\n",
      "180,0\n",
      "3,571428571428571\n",
      "10,344827586206897\n",
      "-59,375\n",
      "100,0\n",
      "-19,230769230769234\n",
      "-28,57142857142857\n"
     ]
    }
   ],
   "source": [
    "import gspread\n",
    "import numpy as np\n",
    "days = 400\n",
    "mon = list(range(1,11))\n",
    "gc = gspread.service_account(filename='unitydatascience-415509-ea749de8bc30.json')\n",
    "sh = gc.open(\"UnityWorkshop2\")\n",
    "price = np.random.randint(0, 400/len(mon), len(mon)+1)\n",
    "i = 0\n",
    "while i <= len(mon):\n",
    "    i += 1\n",
    "    if i == 0:\n",
    "        continue\n",
    "    else:\n",
    "        tempInf = ((price[i-1]-price[i-2])/price[i-2])*100\n",
    "        tempInf = str(tempInf)\n",
    "        tempInf = tempInf.replace('.',',')\n",
    "        sh.sheet1.update(('A' + str(i)), str(i))\n",
    "        sh.sheet1.update(('B' + str(i)), str(price[i-1]))\n",
    "        sh.sheet1.update(('C' + str(i)), str(tempInf))\n",
    "        print(tempInf)"
   ]
  },
  {
   "cell_type": "code",
   "execution_count": null,
   "id": "78c27b02",
   "metadata": {},
   "outputs": [],
   "source": []
  }
 ],
 "metadata": {
  "kernelspec": {
   "display_name": "Python 3 (ipykernel)",
   "language": "python",
   "name": "python3"
  },
  "language_info": {
   "codemirror_mode": {
    "name": "ipython",
    "version": 3
   },
   "file_extension": ".py",
   "mimetype": "text/x-python",
   "name": "python",
   "nbconvert_exporter": "python",
   "pygments_lexer": "ipython3",
   "version": "3.11.5"
  }
 },
 "nbformat": 4,
 "nbformat_minor": 5
}
